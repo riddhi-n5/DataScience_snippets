{
  "nbformat": 4,
  "nbformat_minor": 0,
  "metadata": {
    "colab": {
      "name": "DS-Chap3 solns",
      "provenance": [],
      "authorship_tag": "ABX9TyPBTx4GKQnT4iYT6O9JqGyb",
      "include_colab_link": true
    },
    "kernelspec": {
      "name": "python3",
      "display_name": "Python 3"
    }
  },
  "cells": [
    {
      "cell_type": "markdown",
      "metadata": {
        "id": "view-in-github",
        "colab_type": "text"
      },
      "source": [
        "<a href=\"https://colab.research.google.com/github/riddhi-n5/DataScience_snippets/blob/main/DS_Chap3_solns.ipynb\" target=\"_parent\"><img src=\"https://colab.research.google.com/assets/colab-badge.svg\" alt=\"Open In Colab\"/></a>"
      ]
    },
    {
      "cell_type": "code",
      "metadata": {
        "id": "3RPepCtb0sYt",
        "outputId": "a1e4dda8-a12d-4de6-a2c5-f7ebc6bed9e9",
        "colab": {
          "base_uri": "https://localhost:8080/",
          "height": 55
        }
      },
      "source": [
        "import matplotlib.pyplot as plt\n",
        "import numpy as np\n",
        "np.random.seed(seed=20)\n",
        "plt.style.use('ggplot')\n",
        "import warnings\n",
        "warnings.filterwarnings('ignore')\n",
        "print(plt.style.available)\n",
        "\n"
      ],
      "execution_count": null,
      "outputs": [
        {
          "output_type": "stream",
          "text": [
            "['Solarize_Light2', '_classic_test_patch', 'bmh', 'classic', 'dark_background', 'fast', 'fivethirtyeight', 'ggplot', 'grayscale', 'seaborn', 'seaborn-bright', 'seaborn-colorblind', 'seaborn-dark', 'seaborn-dark-palette', 'seaborn-darkgrid', 'seaborn-deep', 'seaborn-muted', 'seaborn-notebook', 'seaborn-paper', 'seaborn-pastel', 'seaborn-poster', 'seaborn-talk', 'seaborn-ticks', 'seaborn-white', 'seaborn-whitegrid', 'tableau-colorblind10']\n"
          ],
          "name": "stdout"
        }
      ]
    },
    {
      "cell_type": "code",
      "metadata": {
        "id": "H6ZPotN85Fe0",
        "outputId": "b13cf646-97b5-46d8-c726-644ff475ef65",
        "colab": {
          "base_uri": "https://localhost:8080/",
          "height": 70
        }
      },
      "source": [
        "d = { 7:8,\n",
        "     12:2,\n",
        "     14:5,\n",
        "     10:6,\n",
        "     22:3,\n",
        "     45:13\n",
        "    \n",
        "     }\n",
        "\n",
        "def findmean(x):\n",
        "  stud= []\n",
        "  total = []\n",
        "\n",
        "  for i in x:\n",
        "    total.append(x[i])\n",
        "    stud.append(i * x[i])\n",
        "  print(total)\n",
        "  print(stud)\n",
        "\n",
        "  return round(sum(stud)/sum(total))\n",
        "\n",
        "print('Mean class size:', findmean(d))\n",
        "\n",
        "\n",
        "\n",
        "\n",
        "\n"
      ],
      "execution_count": null,
      "outputs": [
        {
          "output_type": "stream",
          "text": [
            "[8, 2, 5, 6, 3, 13]\n",
            "[56, 24, 70, 60, 66, 585]\n",
            "Mean class size: 23\n"
          ],
          "name": "stdout"
        }
      ]
    },
    {
      "cell_type": "code",
      "metadata": {
        "id": "JSX079EW5Fkq",
        "outputId": "bdcc088d-b2ed-43a9-f7fb-dedd0217285d",
        "colab": {
          "base_uri": "https://localhost:8080/",
          "height": 355
        }
      },
      "source": [
        "#PMF \n",
        "import matplotlib.pyplot as plt\n",
        "from matplotlib.pyplot import stem\n",
        "sample = [2,2,4,4,4,2,5,1,1,18,19,20,24,24,20,24]\n",
        "n = float(len(sample))\n",
        "freq={}\n",
        "for i in sample:\n",
        "  freq[i] = freq.get(i,0) +1\n",
        "\n",
        "print(freq)\n",
        "\n",
        "pmf={}\n",
        "for key in freq:\n",
        "  pmf[key] = freq[key]/n\n",
        "\n",
        "print(pmf)\n",
        "\n",
        "pmf_values = []\n",
        "pmf_values = pmf.values()\n",
        "\n",
        "freq_values = []\n",
        "freq_values = freq.values()\n",
        "\n",
        "stem(pmf_values, freq_values, markerfmt = 'bo', linefmt='b-', basefmt='r-')\n",
        "\n",
        "\n",
        "\n",
        "\n",
        "\n"
      ],
      "execution_count": null,
      "outputs": [
        {
          "output_type": "stream",
          "text": [
            "{2: 3, 4: 3, 5: 1, 1: 2, 18: 1, 19: 1, 20: 2, 24: 3}\n",
            "{2: 0.1875, 4: 0.1875, 5: 0.0625, 1: 0.125, 18: 0.0625, 19: 0.0625, 20: 0.125, 24: 0.1875}\n"
          ],
          "name": "stdout"
        },
        {
          "output_type": "stream",
          "text": [
            "/usr/local/lib/python3.6/dist-packages/ipykernel_launcher.py:24: UserWarning: In Matplotlib 3.3 individual lines on a stem plot will be added as a LineCollection instead of individual lines. This significantly improves the performance of a stem plot. To remove this warning and switch to the new behaviour, set the \"use_line_collection\" keyword argument to True.\n"
          ],
          "name": "stderr"
        },
        {
          "output_type": "execute_result",
          "data": {
            "text/plain": [
              "<StemContainer object of 3 artists>"
            ]
          },
          "metadata": {
            "tags": []
          },
          "execution_count": 9
        },
        {
          "output_type": "display_data",
          "data": {
            "image/png": "[encoded data removed]",
            "text/plain": [
              "<Figure size 432x288 with 1 Axes>"
            ]
          },
          "metadata": {
            "tags": [],
            "needs_background": "light"
          }
        }
      ]
    },
    {
      "cell_type": "code",
      "metadata": {
        "id": "LsbSR3PzJn6h",
        "outputId": "c9365ae5-b4c4-4be6-e83a-67b4f197b448",
        "colab": {
          "base_uri": "https://localhost:8080/",
          "height": 779
        }
      },
      "source": [
        "import matplotlib.pyplot as plt\n",
        "import random\n",
        "data = [int(random.gauss((random.random()**2)* 100,2)) for x in range(5000)]\n",
        "plt.hist(data)\n",
        "plt.show()\n",
        "heights = [random.gauss(150,20) for x in range(300)]\n",
        "female = [x - random.uniform(0,10) for x in heights]\n",
        "male = [ x+ random.uniform(0,10) for x in heights]\n",
        "plt.boxplot(female)\n",
        "plt.figure()\n",
        "plt.show()\n",
        "plt.boxplot(male)\n",
        "plt.show()\n"
      ],
      "execution_count": 18,
      "outputs": [
        {
          "output_type": "display_data",
          "data": {
            "image/png": "[encoded data removed]",
            "text/plain": [
              "<Figure size 432x288 with 1 Axes>"
            ]
          },
          "metadata": {
            "tags": [],
            "needs_background": "light"
          }
        },
        {
          "output_type": "display_data",
          "data": {
            "image/png": "[encoded data removed]",
            "text/plain": [
              "<Figure size 432x288 with 1 Axes>"
            ]
          },
          "metadata": {
            "tags": [],
            "needs_background": "light"
          }
        },
        {
          "output_type": "display_data",
          "data": {
            "text/plain": [
              "<Figure size 432x288 with 0 Axes>"
            ]
          },
          "metadata": {
            "tags": []
          }
        },
        {
          "output_type": "display_data",
          "data": {
            "image/png": "[encoded data removed]",
            "text/plain": [
              "<Figure size 432x288 with 1 Axes>"
            ]
          },
          "metadata": {
            "tags": [],
            "needs_background": "light"
          }
        }
      ]
    },
    {
      "cell_type": "code",
      "metadata": {
        "id": "Hw83iKNEJn8-",
        "outputId": "99431ce0-19e7-486f-ef18-210bb8d6763b",
        "colab": {
          "base_uri": "https://localhost:8080/",
          "height": 335
        }
      },
      "source": [
        "#to find mode\n",
        "\n",
        "data = [random.gauss(200,20) for x in range(700)]\n",
        "data.extend([int(random.gauss(random.uniform(-10,650), 20)) for x in range (700)])\n",
        "\n",
        "plt.hist(data)\n",
        "\n",
        "#mode is 200-250 and outliers are -5 ,-650"
      ],
      "execution_count": 20,
      "outputs": [
        {
          "output_type": "execute_result",
          "data": {
            "text/plain": [
              "(array([ 47.,  62., 232., 645.,  66.,  72.,  75.,  63.,  87.,  51.]),\n",
              " array([-34. ,  38.3, 110.6, 182.9, 255.2, 327.5, 399.8, 472.1, 544.4,\n",
              "        616.7, 689. ]),\n",
              " <a list of 10 Patch objects>)"
            ]
          },
          "metadata": {
            "tags": []
          },
          "execution_count": 20
        },
        {
          "output_type": "display_data",
          "data": {
            "image/png": "[encoded data removed]",
            "text/plain": [
              "<Figure size 432x288 with 1 Axes>"
            ]
          },
          "metadata": {
            "tags": [],
            "needs_background": "light"
          }
        }
      ]
    },
    {
      "cell_type": "code",
      "metadata": {
        "id": "a5nOdJoif2V_",
        "outputId": "07f4c820-d6ec-47e4-8023-b0094410e0dd",
        "colab": {
          "base_uri": "https://localhost:8080/",
          "height": 461
        }
      },
      "source": [
        "# for cdf\n",
        "\n",
        "cdf_collect = []\n",
        "def find_cdf(tup, x): #tup->tuple :P\n",
        "  count = 0.0\n",
        "  for val in tup:\n",
        "\n",
        "    if val <= x:\n",
        "      count += 1\n",
        "  prob = count/len(tup)\n",
        "  cdf_collect.append(prob)\n",
        "  print (cdf_collect)\n",
        "  \n",
        "data = [1,2,3,4,5,6,7,8,9]\n",
        "cdf= []\n",
        "\n",
        "cdf =[ find_cdf( data, i) for i in range (10)]\n",
        "\n",
        "plt.plot(data, cdf_collect[1:])\n",
        "plt.show()"
      ],
      "execution_count": 39,
      "outputs": [
        {
          "output_type": "stream",
          "text": [
            "[0.0]\n",
            "[0.0, 0.1111111111111111]\n",
            "[0.0, 0.1111111111111111, 0.2222222222222222]\n",
            "[0.0, 0.1111111111111111, 0.2222222222222222, 0.3333333333333333]\n",
            "[0.0, 0.1111111111111111, 0.2222222222222222, 0.3333333333333333, 0.4444444444444444]\n",
            "[0.0, 0.1111111111111111, 0.2222222222222222, 0.3333333333333333, 0.4444444444444444, 0.5555555555555556]\n",
            "[0.0, 0.1111111111111111, 0.2222222222222222, 0.3333333333333333, 0.4444444444444444, 0.5555555555555556, 0.6666666666666666]\n",
            "[0.0, 0.1111111111111111, 0.2222222222222222, 0.3333333333333333, 0.4444444444444444, 0.5555555555555556, 0.6666666666666666, 0.7777777777777778]\n",
            "[0.0, 0.1111111111111111, 0.2222222222222222, 0.3333333333333333, 0.4444444444444444, 0.5555555555555556, 0.6666666666666666, 0.7777777777777778, 0.8888888888888888]\n",
            "[0.0, 0.1111111111111111, 0.2222222222222222, 0.3333333333333333, 0.4444444444444444, 0.5555555555555556, 0.6666666666666666, 0.7777777777777778, 0.8888888888888888, 1.0]\n"
          ],
          "name": "stdout"
        },
        {
          "output_type": "display_data",
          "data": {
            "image/png": "[encoded data removed]",
            "text/plain": [
              "<Figure size 432x288 with 1 Axes>"
            ]
          },
          "metadata": {
            "tags": [],
            "needs_background": "light"
          }
        }
      ]
    },
    {
      "cell_type": "code",
      "metadata": {
        "id": "7-Xi5rexf2Zj"
      },
      "source": [
        ""
      ],
      "execution_count": null,
      "outputs": []
    },
    {
      "cell_type": "code",
      "metadata": {
        "id": "HNg7NJChf2T8"
      },
      "source": [
        ""
      ],
      "execution_count": null,
      "outputs": []
    },
    {
      "cell_type": "code",
      "metadata": {
        "id": "SSOFXWL_JoAW"
      },
      "source": [
        ""
      ],
      "execution_count": null,
      "outputs": []
    },
    {
      "cell_type": "code",
      "metadata": {
        "id": "aWtKkyBM5Fnk"
      },
      "source": [
        "import numpy as np\n",
        "import pandas as pd\n",
        "import io\n",
        "import requests\n",
        "import matplotlib.pyplot as plt\n",
        "import seaborn as sns\n",
        "import csv\n"
      ],
      "execution_count": 1,
      "outputs": []
    },
    {
      "cell_type": "code",
      "metadata": {
        "id": "wYCD9UdiFf5L",
        "outputId": "6fe27bc1-f25b-4986-af9c-770af3ea2a7b",
        "colab": {
          "base_uri": "https://localhost:8080/",
          "height": 35
        }
      },
      "source": [
        "from google.colab import drive\n",
        "drive.mount('/content/drive')"
      ],
      "execution_count": 4,
      "outputs": [
        {
          "output_type": "stream",
          "text": [
            "Mounted at /content/drive\n"
          ],
          "name": "stdout"
        }
      ]
    },
    {
      "cell_type": "code",
      "metadata": {
        "id": "I6Q7fFcwAs0i",
        "outputId": "c966f2eb-4435-4a1b-a194-1121cba235f2",
        "colab": {
          "base_uri": "https://localhost:8080/",
          "height": 203
        }
      },
      "source": [
        "df = pd.read_csv('/content/winter.csv')\n",
        "df.tail()"
      ],
      "execution_count": 8,
      "outputs": [
        {
          "output_type": "execute_result",
          "data": {
            "text/html": [
              "<div>\n",
              "<style scoped>\n",
              "    .dataframe tbody tr th:only-of-type {\n",
              "        vertical-align: middle;\n",
              "    }\n",
              "\n",
              "    .dataframe tbody tr th {\n",
              "        vertical-align: top;\n",
              "    }\n",
              "\n",
              "    .dataframe thead th {\n",
              "        text-align: right;\n",
              "    }\n",
              "</style>\n",
              "<table border=\"1\" class=\"dataframe\">\n",
              "  <thead>\n",
              "    <tr style=\"text-align: right;\">\n",
              "      <th></th>\n",
              "      <th>Year</th>\n",
              "      <th>City</th>\n",
              "      <th>Sport</th>\n",
              "      <th>Discipline</th>\n",
              "      <th>Athlete</th>\n",
              "      <th>Country</th>\n",
              "      <th>Gender</th>\n",
              "      <th>Event</th>\n",
              "      <th>Medal</th>\n",
              "    </tr>\n",
              "  </thead>\n",
              "  <tbody>\n",
              "    <tr>\n",
              "      <th>5765</th>\n",
              "      <td>2014</td>\n",
              "      <td>Sochi</td>\n",
              "      <td>Skiing</td>\n",
              "      <td>Snowboard</td>\n",
              "      <td>JONES, Jenny</td>\n",
              "      <td>GBR</td>\n",
              "      <td>Women</td>\n",
              "      <td>Slopestyle</td>\n",
              "      <td>Bronze</td>\n",
              "    </tr>\n",
              "    <tr>\n",
              "      <th>5766</th>\n",
              "      <td>2014</td>\n",
              "      <td>Sochi</td>\n",
              "      <td>Skiing</td>\n",
              "      <td>Snowboard</td>\n",
              "      <td>ANDERSON, Jamie</td>\n",
              "      <td>USA</td>\n",
              "      <td>Women</td>\n",
              "      <td>Slopestyle</td>\n",
              "      <td>Gold</td>\n",
              "    </tr>\n",
              "    <tr>\n",
              "      <th>5767</th>\n",
              "      <td>2014</td>\n",
              "      <td>Sochi</td>\n",
              "      <td>Skiing</td>\n",
              "      <td>Snowboard</td>\n",
              "      <td>MALTAIS, Dominique</td>\n",
              "      <td>CAN</td>\n",
              "      <td>Women</td>\n",
              "      <td>Snowboard Cross</td>\n",
              "      <td>Silver</td>\n",
              "    </tr>\n",
              "    <tr>\n",
              "      <th>5768</th>\n",
              "      <td>2014</td>\n",
              "      <td>Sochi</td>\n",
              "      <td>Skiing</td>\n",
              "      <td>Snowboard</td>\n",
              "      <td>SAMKOVA, Eva</td>\n",
              "      <td>CZE</td>\n",
              "      <td>Women</td>\n",
              "      <td>Snowboard Cross</td>\n",
              "      <td>Gold</td>\n",
              "    </tr>\n",
              "    <tr>\n",
              "      <th>5769</th>\n",
              "      <td>2014</td>\n",
              "      <td>Sochi</td>\n",
              "      <td>Skiing</td>\n",
              "      <td>Snowboard</td>\n",
              "      <td>TRESPEUCH, Chloe</td>\n",
              "      <td>FRA</td>\n",
              "      <td>Women</td>\n",
              "      <td>Snowboard Cross</td>\n",
              "      <td>Bronze</td>\n",
              "    </tr>\n",
              "  </tbody>\n",
              "</table>\n",
              "</div>"
            ],
            "text/plain": [
              "      Year   City   Sport Discipline  ... Country Gender            Event   Medal\n",
              "5765  2014  Sochi  Skiing  Snowboard  ...     GBR  Women       Slopestyle  Bronze\n",
              "5766  2014  Sochi  Skiing  Snowboard  ...     USA  Women       Slopestyle    Gold\n",
              "5767  2014  Sochi  Skiing  Snowboard  ...     CAN  Women  Snowboard Cross  Silver\n",
              "5768  2014  Sochi  Skiing  Snowboard  ...     CZE  Women  Snowboard Cross    Gold\n",
              "5769  2014  Sochi  Skiing  Snowboard  ...     FRA  Women  Snowboard Cross  Bronze\n",
              "\n",
              "[5 rows x 9 columns]"
            ]
          },
          "metadata": {
            "tags": []
          },
          "execution_count": 8
        }
      ]
    },
    {
      "cell_type": "code",
      "metadata": {
        "id": "m8uEa38dAs45",
        "outputId": "53c8d1a5-4cc2-44e5-f68c-950ee702fc36",
        "colab": {
          "base_uri": "https://localhost:8080/",
          "height": 299
        }
      },
      "source": [
        "df.info()"
      ],
      "execution_count": 9,
      "outputs": [
        {
          "output_type": "stream",
          "text": [
            "<class 'pandas.core.frame.DataFrame'>\n",
            "RangeIndex: 5770 entries, 0 to 5769\n",
            "Data columns (total 9 columns):\n",
            " #   Column      Non-Null Count  Dtype \n",
            "---  ------      --------------  ----- \n",
            " 0   Year        5770 non-null   int64 \n",
            " 1   City        5770 non-null   object\n",
            " 2   Sport       5770 non-null   object\n",
            " 3   Discipline  5770 non-null   object\n",
            " 4   Athlete     5770 non-null   object\n",
            " 5   Country     5770 non-null   object\n",
            " 6   Gender      5770 non-null   object\n",
            " 7   Event       5770 non-null   object\n",
            " 8   Medal       5770 non-null   object\n",
            "dtypes: int64(1), object(8)\n",
            "memory usage: 405.8+ KB\n"
          ],
          "name": "stdout"
        }
      ]
    },
    {
      "cell_type": "code",
      "metadata": {
        "id": "XtHMaU1kAs77",
        "outputId": "b8efd4fc-c16c-4aad-de86-b8816b5c646b",
        "colab": {
          "base_uri": "https://localhost:8080/",
          "height": 295
        }
      },
      "source": [
        "df.describe()"
      ],
      "execution_count": 10,
      "outputs": [
        {
          "output_type": "execute_result",
          "data": {
            "text/html": [
              "<div>\n",
              "<style scoped>\n",
              "    .dataframe tbody tr th:only-of-type {\n",
              "        vertical-align: middle;\n",
              "    }\n",
              "\n",
              "    .dataframe tbody tr th {\n",
              "        vertical-align: top;\n",
              "    }\n",
              "\n",
              "    .dataframe thead th {\n",
              "        text-align: right;\n",
              "    }\n",
              "</style>\n",
              "<table border=\"1\" class=\"dataframe\">\n",
              "  <thead>\n",
              "    <tr style=\"text-align: right;\">\n",
              "      <th></th>\n",
              "      <th>Year</th>\n",
              "    </tr>\n",
              "  </thead>\n",
              "  <tbody>\n",
              "    <tr>\n",
              "      <th>count</th>\n",
              "      <td>5770.000000</td>\n",
              "    </tr>\n",
              "    <tr>\n",
              "      <th>mean</th>\n",
              "      <td>1986.350433</td>\n",
              "    </tr>\n",
              "    <tr>\n",
              "      <th>std</th>\n",
              "      <td>24.263673</td>\n",
              "    </tr>\n",
              "    <tr>\n",
              "      <th>min</th>\n",
              "      <td>1924.000000</td>\n",
              "    </tr>\n",
              "    <tr>\n",
              "      <th>25%</th>\n",
              "      <td>1972.000000</td>\n",
              "    </tr>\n",
              "    <tr>\n",
              "      <th>50%</th>\n",
              "      <td>1994.000000</td>\n",
              "    </tr>\n",
              "    <tr>\n",
              "      <th>75%</th>\n",
              "      <td>2006.000000</td>\n",
              "    </tr>\n",
              "    <tr>\n",
              "      <th>max</th>\n",
              "      <td>2014.000000</td>\n",
              "    </tr>\n",
              "  </tbody>\n",
              "</table>\n",
              "</div>"
            ],
            "text/plain": [
              "              Year\n",
              "count  5770.000000\n",
              "mean   1986.350433\n",
              "std      24.263673\n",
              "min    1924.000000\n",
              "25%    1972.000000\n",
              "50%    1994.000000\n",
              "75%    2006.000000\n",
              "max    2014.000000"
            ]
          },
          "metadata": {
            "tags": []
          },
          "execution_count": 10
        }
      ]
    },
    {
      "cell_type": "code",
      "metadata": {
        "id": "KtpqxiLVAs3O",
        "outputId": "8b137e6a-39ba-401b-b50c-02cb8f39ef7f",
        "colab": {
          "base_uri": "https://localhost:8080/",
          "height": 311
        }
      },
      "source": [
        "df.Gender.value_counts().plot(kind='bar')"
      ],
      "execution_count": 11,
      "outputs": [
        {
          "output_type": "execute_result",
          "data": {
            "text/plain": [
              "<matplotlib.axes._subplots.AxesSubplot at 0x7f45c42d9358>"
            ]
          },
          "metadata": {
            "tags": []
          },
          "execution_count": 11
        },
        {
          "output_type": "display_data",
          "data": {
            "image/png": "[encoded data removed]",
            "text/plain": [
              "<Figure size 432x288 with 1 Axes>"
            ]
          },
          "metadata": {
            "tags": [],
            "needs_background": "light"
          }
        }
      ]
    },
    {
      "cell_type": "code",
      "metadata": {
        "id": "Vm36iyC6Asyi",
        "outputId": "743b57af-b870-419c-f14c-d51a23240d8d",
        "colab": {
          "base_uri": "https://localhost:8080/",
          "height": 295
        }
      },
      "source": [
        "df.Country.value_counts().plot(kind='bar')"
      ],
      "execution_count": 12,
      "outputs": [
        {
          "output_type": "execute_result",
          "data": {
            "text/plain": [
              "<matplotlib.axes._subplots.AxesSubplot at 0x7f45c4300668>"
            ]
          },
          "metadata": {
            "tags": []
          },
          "execution_count": 12
        },
        {
          "output_type": "display_data",
          "data": {
            "image/png": "[encoded data removed]",
            "text/plain": [
              "<Figure size 432x288 with 1 Axes>"
            ]
          },
          "metadata": {
            "tags": [],
            "needs_background": "light"
          }
        }
      ]
    },
    {
      "cell_type": "code",
      "metadata": {
        "id": "63zXFddsH_gN"
      },
      "source": [
        ""
      ],
      "execution_count": null,
      "outputs": []
    },
    {
      "cell_type": "code",
      "metadata": {
        "id": "8EucjyzAH_jr"
      },
      "source": [
        ""
      ],
      "execution_count": null,
      "outputs": []
    },
    {
      "cell_type": "code",
      "metadata": {
        "id": "cZXQrAu2H_sC"
      },
      "source": [
        ""
      ],
      "execution_count": null,
      "outputs": []
    },
    {
      "cell_type": "code",
      "metadata": {
        "id": "XtG5oukgH_u5"
      },
      "source": [
        ""
      ],
      "execution_count": null,
      "outputs": []
    },
    {
      "cell_type": "code",
      "metadata": {
        "id": "y4etjeEoH_en"
      },
      "source": [
        ""
      ],
      "execution_count": null,
      "outputs": []
    }
  ]
}